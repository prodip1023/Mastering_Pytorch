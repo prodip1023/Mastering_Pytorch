{
 "cells": [
  {
   "cell_type": "markdown",
   "metadata": {},
   "source": [
    "#### Sequential\n",
    "- Simple and concise for linear architecture\n",
    "- Limited to layer stacking\n",
    "#### Functional API\n",
    "- Flexible but requires more code.\n",
    "- Allows any custom computation logic"
   ]
  },
  {
   "cell_type": "markdown",
   "metadata": {},
   "source": [
    "# nn.Sequential"
   ]
  },
  {
   "cell_type": "code",
   "execution_count": null,
   "metadata": {},
   "outputs": [],
   "source": [
    "import torch\n",
    "import torch.nn as nn"
   ]
  },
  {
   "cell_type": "code",
   "execution_count": null,
   "metadata": {},
   "outputs": [],
   "source": [
    "# Define the neural network using sequential\n",
    "\n",
    "# Input as 20 features i.e. X\n",
    "# Ouput is 5 Taget variable / classes i.e. y\n",
    "\n",
    "sequential_model = nn.Sequential(\n",
    "    nn.Linear(20,64), # Input layer (20 -> 64)\n",
    "    nn.ReLU(),\n",
    "    nn.Linear(64, 32),\n",
    "    nn.ReLU(),\n",
    "    nn.Linear(32, 5),\n",
    ")\n",
    "\n",
    "print(sequential_model)\n",
    "\n",
    "input_data = torch.randn(10, 20) # 10 rows, 20 is my feature size in each row\n",
    "print(input_data)\n",
    "output = sequential_model(input_data)\n",
    "print(output)\n"
   ]
  },
  {
   "cell_type": "code",
   "execution_count": null,
   "metadata": {},
   "outputs": [],
   "source": [
    "print(f\"Model weights {sequential_model[0].weight.data}\")\n",
    "print(f\"Model bias {sequential_model[0].bias.data}\")\n"
   ]
  },
  {
   "cell_type": "markdown",
   "metadata": {},
   "source": [
    "# Functional API"
   ]
  },
  {
   "cell_type": "code",
   "execution_count": null,
   "metadata": {},
   "outputs": [],
   "source": [
    "class FunctionalModel(nn.Module):\n",
    "  def __init__(self):\n",
    "    super(FunctionalModel, self).__init__()\n",
    "    self.fc1 = nn.Linear(20, 64)\n",
    "    self.fc2 = nn.Linear(64, 32)\n",
    "    self.fc3 = nn.Linear(32, 5)\n",
    "    self.relu = nn.ReLU()\n",
    "\n",
    "  def forward(self, X):\n",
    "    x = self.relu(self.fc1(X))\n",
    "    x = self.relu(self.fc2(x))\n",
    "    x = self.fc3(x)\n",
    "    return x\n",
    "\n",
    "functional_model = FunctionalModel()\n",
    "\n",
    "print(functional_model)\n",
    "\n",
    "input_data = torch.randn(10, 20) # 10 rows, 20 is my feature size in each row\n",
    "print(input_data)\n",
    "output = functional_model(input_data)\n",
    "print(output)"
   ]
  },
  {
   "cell_type": "markdown",
   "metadata": {
    "id": "w3cXYT_oK436"
   },
   "source": [
    "# Multi-Class Classification with PyTorch"
   ]
  },
  {
   "cell_type": "code",
   "execution_count": 1,
   "metadata": {
    "executionInfo": {
     "elapsed": 11244,
     "status": "ok",
     "timestamp": 1726764696827,
     "user": {
      "displayName": "nimoy",
      "userId": "12145814232676261569"
     },
     "user_tz": -330
    },
    "id": "jXMd8PPhFWxv"
   },
   "outputs": [],
   "source": [
    "import torch\n",
    "import torch.nn as nn\n",
    "import torch.optim as optim\n",
    "from sklearn.datasets import load_iris\n",
    "from sklearn.model_selection import train_test_split\n",
    "from sklearn.preprocessing import StandardScaler"
   ]
  },
  {
   "cell_type": "code",
   "execution_count": 2,
   "metadata": {
    "executionInfo": {
     "elapsed": 477,
     "status": "ok",
     "timestamp": 1726764768759,
     "user": {
      "displayName": "nimoy",
      "userId": "12145814232676261569"
     },
     "user_tz": -330
    },
    "id": "QjwZKCwxIbCL"
   },
   "outputs": [],
   "source": [
    "# Set device (CPU or GPU)\n",
    "device = torch.device('cuda' if torch.cuda.is_available() else 'cpu')"
   ]
  },
  {
   "cell_type": "code",
   "execution_count": 3,
   "metadata": {
    "executionInfo": {
     "elapsed": 2,
     "status": "ok",
     "timestamp": 1726764770632,
     "user": {
      "displayName": "nimoy",
      "userId": "12145814232676261569"
     },
     "user_tz": -330
    },
    "id": "Qa83_aHSLQ1S"
   },
   "outputs": [],
   "source": [
    "# Load and preprocess the dataset\n",
    "iris = load_iris()\n",
    "X = iris.data  # Features (numerical data)\n",
    "y = iris.target  # Labels (3 classes)"
   ]
  },
  {
   "cell_type": "code",
   "execution_count": 4,
   "metadata": {
    "executionInfo": {
     "elapsed": 2,
     "status": "ok",
     "timestamp": 1726764771351,
     "user": {
      "displayName": "nimoy",
      "userId": "12145814232676261569"
     },
     "user_tz": -330
    },
    "id": "ZqCpURX2LE64"
   },
   "outputs": [],
   "source": [
    "# Standardize the features\n",
    "scaler = StandardScaler()\n",
    "X = scaler.fit_transform(X)"
   ]
  },
  {
   "cell_type": "code",
   "execution_count": 5,
   "metadata": {
    "executionInfo": {
     "elapsed": 481,
     "status": "ok",
     "timestamp": 1726764773792,
     "user": {
      "displayName": "nimoy",
      "userId": "12145814232676261569"
     },
     "user_tz": -330
    },
    "id": "KvdSiexrLIjX"
   },
   "outputs": [],
   "source": [
    "# Convert data to tensors\n",
    "X = torch.tensor(X, dtype=torch.float32).to(device)\n",
    "y = torch.tensor(y, dtype=torch.long).to(device)  # Multi-class requires LongTensor for target"
   ]
  },
  {
   "cell_type": "code",
   "execution_count": 6,
   "metadata": {
    "executionInfo": {
     "elapsed": 475,
     "status": "ok",
     "timestamp": 1726764775946,
     "user": {
      "displayName": "nimoy",
      "userId": "12145814232676261569"
     },
     "user_tz": -330
    },
    "id": "QabtPJeALJOI"
   },
   "outputs": [],
   "source": [
    "# Split the dataset into training and test sets\n",
    "X_train, X_test, y_train, y_test = train_test_split(X, y, test_size=0.2, random_state=42)"
   ]
  },
  {
   "cell_type": "code",
   "execution_count": 36,
   "metadata": {
    "colab": {
     "base_uri": "https://localhost:8080/"
    },
    "executionInfo": {
     "elapsed": 468,
     "status": "ok",
     "timestamp": 1726765350605,
     "user": {
      "displayName": "nimoy",
      "userId": "12145814232676261569"
     },
     "user_tz": -330
    },
    "id": "grjknIfBODqp",
    "outputId": "c9f71803-a56c-4fc6-cced-cd9140bccf4a"
   },
   "outputs": [
    {
     "name": "stdout",
     "output_type": "stream",
     "text": [
      "torch.Size([30, 4])\n",
      "============================================================\n",
      "tensor([[ 3.1100e-01, -5.9237e-01,  5.3541e-01,  8.7755e-04],\n",
      "        [-1.7367e-01,  1.7096e+00, -1.1697e+00, -1.1838e+00],\n",
      "        [ 2.2497e+00, -1.0528e+00,  1.7858e+00,  1.4488e+00],\n",
      "        [ 1.8983e-01, -3.6218e-01,  4.2173e-01,  3.9577e-01],\n",
      "        [ 1.1592e+00, -5.9237e-01,  5.9225e-01,  2.6414e-01],\n",
      "        [-5.3718e-01,  7.8881e-01, -1.2834e+00, -1.0522e+00],\n",
      "        [-2.9484e-01, -3.6218e-01, -8.9803e-02,  1.3251e-01],\n",
      "        [ 1.2803e+00,  9.8217e-02,  7.6276e-01,  1.4488e+00],\n",
      "        [ 4.3217e-01, -1.9736e+00,  4.2173e-01,  3.9577e-01],\n",
      "        [-5.2506e-02, -8.2257e-01,  8.0709e-02,  8.7755e-04],\n",
      "        [ 7.9567e-01,  3.2841e-01,  7.6276e-01,  1.0539e+00],\n",
      "        [-1.2642e+00, -1.3198e-01, -1.3402e+00, -1.4471e+00],\n",
      "        [-4.1601e-01,  1.0190e+00, -1.3971e+00, -1.3154e+00],\n",
      "        [-1.1430e+00,  9.8217e-02, -1.2834e+00, -1.4471e+00],\n",
      "        [-9.0068e-01,  1.7096e+00, -1.2834e+00, -1.1838e+00],\n",
      "        [ 5.5333e-01,  5.5861e-01,  5.3541e-01,  5.2741e-01],\n",
      "        [ 7.9567e-01, -1.3198e-01,  1.1606e+00,  1.3172e+00],\n",
      "        [-2.9484e-01, -1.2830e+00,  8.0709e-02, -1.3075e-01],\n",
      "        [-1.7367e-01, -5.9237e-01,  4.2173e-01,  1.3251e-01],\n",
      "        [ 6.7450e-01, -5.9237e-01,  1.0469e+00,  1.3172e+00],\n",
      "        [-1.3854e+00,  3.2841e-01, -1.2266e+00, -1.3154e+00],\n",
      "        [ 3.1100e-01, -1.3198e-01,  6.4908e-01,  7.9067e-01],\n",
      "        [-1.0218e+00,  7.8881e-01, -1.2266e+00, -1.0522e+00],\n",
      "        [ 6.7450e-01, -5.9237e-01,  1.0469e+00,  1.1856e+00],\n",
      "        [ 2.4920e+00,  1.7096e+00,  1.5016e+00,  1.0539e+00],\n",
      "        [ 1.0380e+00, -1.3198e-01,  8.1960e-01,  1.4488e+00],\n",
      "        [ 1.0380e+00, -1.2830e+00,  1.1606e+00,  7.9067e-01],\n",
      "        [ 1.1592e+00,  3.2841e-01,  1.2175e+00,  1.4488e+00],\n",
      "        [-1.2642e+00, -1.3198e-01, -1.3402e+00, -1.1838e+00],\n",
      "        [-1.2642e+00,  9.8217e-02, -1.2266e+00, -1.3154e+00]])\n",
      "tensor([1, 0, 2, 1, 1, 0, 1, 2, 1, 1, 2, 0, 0, 0, 0, 1, 2, 1, 1, 2, 0, 2, 0, 2,\n",
      "        2, 2, 2, 2, 0, 0])\n",
      "============================================================\n",
      "tensor([ 0.3110, -0.5924,  0.5354,  0.0009])\n",
      "tensor(1)\n"
     ]
    }
   ],
   "source": [
    "print(X_test.shape)\n",
    "\n",
    "print(\"=\"*60)\n",
    "\n",
    "print(X_test[:,:])\n",
    "print(y_test[:])\n",
    "\n",
    "print(\"=\"*60)\n",
    "print(X_test[0,:])\n",
    "print(y_test[0])"
   ]
  },
  {
   "cell_type": "code",
   "execution_count": 7,
   "metadata": {
    "executionInfo": {
     "elapsed": 2,
     "status": "ok",
     "timestamp": 1726764792637,
     "user": {
      "displayName": "nimoy",
      "userId": "12145814232676261569"
     },
     "user_tz": -330
    },
    "id": "cE5-3fh3LLGI"
   },
   "outputs": [],
   "source": [
    "# Define the neural network model\n",
    "class NeuralNetBasic(nn.Module):\n",
    "    def __init__(self, input_size, hidden_size, num_classes):\n",
    "        super(NeuralNetBasic, self).__init__()\n",
    "        self.fc1 = nn.Linear(input_size, hidden_size)  # First fully connected layer\n",
    "        self.relu = nn.ReLU()  # Activation function\n",
    "        self.fc2 = nn.Linear(hidden_size, num_classes)  # Output layer for classification\n",
    "\n",
    "    def forward(self, x):\n",
    "        out = self.fc1(x)\n",
    "        out = self.relu(out)\n",
    "        out = self.fc2(out)\n",
    "        return out\n",
    "\n",
    "# Model parameters\n",
    "input_size = X_train.shape[1]  # Number of features (4 for Iris)\n",
    "hidden_size = 16  # Arbitrary hidden layer size\n",
    "num_classes = 3  # Number of output classes (3 for Iris)\n",
    "\n",
    "# Instantiate the model\n",
    "model = NeuralNetBasic(input_size, hidden_size, num_classes).to(device)"
   ]
  },
  {
   "cell_type": "code",
   "execution_count": 37,
   "metadata": {
    "executionInfo": {
     "elapsed": 457,
     "status": "ok",
     "timestamp": 1726765385608,
     "user": {
      "displayName": "nimoy",
      "userId": "12145814232676261569"
     },
     "user_tz": -330
    },
    "id": "2huQU_DQLNwf"
   },
   "outputs": [],
   "source": [
    "# Neural network model with multiple layers\n",
    "class NeuralNetAdvance(nn.Module):\n",
    "    def __init__(self, input_size, hidden_size1, hidden_size2, hidden_size3, num_classes):\n",
    "        super(NeuralNetAdvance, self).__init__()\n",
    "        self.fc1 = nn.Linear(input_size, hidden_size1)  # First hidden layer\n",
    "        self.fc2 = nn.Linear(hidden_size1, hidden_size2)  # Second hidden layer\n",
    "        self.fc3 = nn.Linear(hidden_size2, hidden_size3)  # Third hidden layer\n",
    "        self.fc4 = nn.Linear(hidden_size3, num_classes)  # Output layer\n",
    "        self.relu = nn.ReLU()  # ReLU activation function\n",
    "        self.dropout = nn.Dropout(p=0.5)  # Dropout for regularization\n",
    "\n",
    "    def forward(self, x):\n",
    "        x = self.fc1(x)\n",
    "        x = self.relu(x)\n",
    "        x = self.dropout(x)  # Apply dropout to the first hidden layer\n",
    "\n",
    "        x = self.fc2(x)\n",
    "        x = self.relu(x)\n",
    "        x = self.dropout(x)  # Apply dropout to the second hidden layer\n",
    "\n",
    "        x = self.fc3(x)\n",
    "        x = self.relu(x)\n",
    "\n",
    "        x = self.fc4(x)  # Output layer (no activation, as CrossEntropyLoss applies softmax)\n",
    "        return x\n",
    "\n",
    "# Model parameters\n",
    "input_size = X_train.shape[1]  # Number of features (4 for Iris)\n",
    "hidden_size1 = 32  # First hidden layer size\n",
    "hidden_size2 = 64  # Second hidden layer size\n",
    "hidden_size3 = 32  # Third hidden layer size\n",
    "num_classes = 3  # Number of output classes (3 for Iris)\n",
    "\n",
    "# Instantiate the model\n",
    "model = NeuralNetAdvance(input_size, hidden_size1, hidden_size2, hidden_size3, num_classes).to(device)\n"
   ]
  },
  {
   "cell_type": "code",
   "execution_count": 38,
   "metadata": {
    "executionInfo": {
     "elapsed": 455,
     "status": "ok",
     "timestamp": 1726765391435,
     "user": {
      "displayName": "nimoy",
      "userId": "12145814232676261569"
     },
     "user_tz": -330
    },
    "id": "sQ9W-PRGLa_g"
   },
   "outputs": [],
   "source": [
    "# Define the loss function and optimizer\n",
    "criterion = nn.CrossEntropyLoss()  # Suitable for multi-class classification\n",
    "optimizer = optim.Adam(model.parameters(), lr=0.001)  # Adam optimizer"
   ]
  },
  {
   "cell_type": "code",
   "execution_count": 39,
   "metadata": {
    "executionInfo": {
     "elapsed": 487,
     "status": "ok",
     "timestamp": 1726765394748,
     "user": {
      "displayName": "nimoy",
      "userId": "12145814232676261569"
     },
     "user_tz": -330
    },
    "id": "5fVaKTM-LeGo"
   },
   "outputs": [],
   "source": [
    "# Train the model\n",
    "num_epochs = 100  # Number of training iterations\n",
    "batch_size = 16  # Batch size for training"
   ]
  },
  {
   "cell_type": "code",
   "execution_count": 40,
   "metadata": {
    "executionInfo": {
     "elapsed": 439,
     "status": "ok",
     "timestamp": 1726765397638,
     "user": {
      "displayName": "nimoy",
      "userId": "12145814232676261569"
     },
     "user_tz": -330
    },
    "id": "2aFCPugjLfPI"
   },
   "outputs": [],
   "source": [
    "def train_model(X_train, y_train):\n",
    "    model.train()\n",
    "    for epoch in range(num_epochs):\n",
    "        # Forward pass\n",
    "        outputs = model(X_train)\n",
    "        loss = criterion(outputs, y_train)\n",
    "\n",
    "        # Backward pass and optimization\n",
    "        optimizer.zero_grad()  # Clear gradients\n",
    "        loss.backward()  # Backpropagation\n",
    "        optimizer.step()  # Update model parameters\n",
    "\n",
    "        if (epoch + 1) % 10 == 0:\n",
    "            print(f'Epoch [{epoch+1}/{num_epochs}], Loss: {loss.item():.4f}')"
   ]
  },
  {
   "cell_type": "markdown",
   "metadata": {
    "id": "wOoRpw2UQYMZ"
   },
   "source": [
    "# How the Model Handles Batches?\n",
    "\n",
    "In the forward pass, PyTorch automatically handles multiple inputs (batches). This happens because the operations like matrix multiplication, addition, activation functions, etc., are all vectorized, meaning they are performed on the entire batch simultaneously."
   ]
  },
  {
   "cell_type": "code",
   "execution_count": 41,
   "metadata": {
    "colab": {
     "base_uri": "https://localhost:8080/"
    },
    "executionInfo": {
     "elapsed": 445,
     "status": "ok",
     "timestamp": 1726765401390,
     "user": {
      "displayName": "nimoy",
      "userId": "12145814232676261569"
     },
     "user_tz": -330
    },
    "id": "-qUBnIOZLiLo",
    "outputId": "32e2b3a2-1840-42eb-bde4-481d819afe71"
   },
   "outputs": [
    {
     "name": "stdout",
     "output_type": "stream",
     "text": [
      "Epoch [10/100], Loss: 1.0587\n",
      "Epoch [20/100], Loss: 0.9948\n",
      "Epoch [30/100], Loss: 0.8884\n",
      "Epoch [40/100], Loss: 0.7344\n",
      "Epoch [50/100], Loss: 0.6084\n",
      "Epoch [60/100], Loss: 0.4876\n",
      "Epoch [70/100], Loss: 0.4586\n",
      "Epoch [80/100], Loss: 0.4254\n",
      "Epoch [90/100], Loss: 0.3901\n",
      "Epoch [100/100], Loss: 0.3439\n"
     ]
    }
   ],
   "source": [
    "# Train the model on the training data\n",
    "train_model(X_train, y_train)"
   ]
  },
  {
   "cell_type": "code",
   "execution_count": 42,
   "metadata": {
    "colab": {
     "base_uri": "https://localhost:8080/"
    },
    "executionInfo": {
     "elapsed": 456,
     "status": "ok",
     "timestamp": 1726765412319,
     "user": {
      "displayName": "nimoy",
      "userId": "12145814232676261569"
     },
     "user_tz": -330
    },
    "id": "r21Nrmh-LjzQ",
    "outputId": "e8894491-5474-4b26-f973-0980c514455d"
   },
   "outputs": [
    {
     "data": {
      "text/plain": [
       "NeuralNetAdvance(\n",
       "  (fc1): Linear(in_features=4, out_features=32, bias=True)\n",
       "  (fc2): Linear(in_features=32, out_features=64, bias=True)\n",
       "  (fc3): Linear(in_features=64, out_features=32, bias=True)\n",
       "  (fc4): Linear(in_features=32, out_features=3, bias=True)\n",
       "  (relu): ReLU()\n",
       "  (dropout): Dropout(p=0.5, inplace=False)\n",
       ")"
      ]
     },
     "execution_count": 42,
     "metadata": {},
     "output_type": "execute_result"
    }
   ],
   "source": [
    "# Evaluate the model\n",
    "model.eval()  # Set model to evaluation mode (no gradients)"
   ]
  },
  {
   "cell_type": "code",
   "execution_count": 43,
   "metadata": {
    "colab": {
     "base_uri": "https://localhost:8080/"
    },
    "executionInfo": {
     "elapsed": 476,
     "status": "ok",
     "timestamp": 1726765415932,
     "user": {
      "displayName": "nimoy",
      "userId": "12145814232676261569"
     },
     "user_tz": -330
    },
    "id": "yEQWqbFJLlF5",
    "outputId": "daead6f1-d5cc-447b-cbde-33d3898ed838"
   },
   "outputs": [
    {
     "name": "stdout",
     "output_type": "stream",
     "text": [
      "Accuracy on the test set: 86.67%\n"
     ]
    }
   ],
   "source": [
    "with torch.no_grad():  # No need to compute gradients during testing\n",
    "    test_outputs = model(X_test)\n",
    "    _, predicted = torch.max(test_outputs, 1)  # Get the class with highest probability\n",
    "    accuracy = (predicted == y_test).sum().item() / y_test.size(0)\n",
    "    print(f'Accuracy on the test set: {accuracy * 100:.2f}%')"
   ]
  },
  {
   "cell_type": "code",
   "execution_count": 44,
   "metadata": {
    "colab": {
     "base_uri": "https://localhost:8080/"
    },
    "executionInfo": {
     "elapsed": 456,
     "status": "ok",
     "timestamp": 1726765428833,
     "user": {
      "displayName": "nimoy",
      "userId": "12145814232676261569"
     },
     "user_tz": -330
    },
    "id": "8EfccrnKLmpY",
    "outputId": "327b4256-15b7-40b2-de70-48d5a9543368"
   },
   "outputs": [
    {
     "name": "stdout",
     "output_type": "stream",
     "text": [
      "tensor([[-0.9007,  1.0190, -1.3402, -1.3154],\n",
      "        [ 0.7957, -0.1320,  0.9901,  0.7907]])\n"
     ]
    }
   ],
   "source": [
    "# Example of prediction on new data\n",
    "new_data = torch.tensor([[5.1, 3.5, 1.4, 0.2], [6.5, 3.0, 5.5, 1.8]], dtype=torch.float32).to(device)\n",
    "new_data = torch.tensor(scaler.transform(new_data.cpu()), dtype=torch.float32).to(device)\n",
    "print(new_data)"
   ]
  },
  {
   "cell_type": "markdown",
   "metadata": {
    "id": "W_JbVs28PzaK"
   },
   "source": [
    "* scaler.transform(new_data.cpu()) scales the data and returns a NumPy array.\n",
    "* torch.tensor(...) converts the NumPy array back to a PyTorch tensor.\n",
    "* .to(device) moves the tensor to the appropriate device (CPU or GPU)."
   ]
  },
  {
   "cell_type": "code",
   "execution_count": 45,
   "metadata": {
    "colab": {
     "base_uri": "https://localhost:8080/"
    },
    "executionInfo": {
     "elapsed": 460,
     "status": "ok",
     "timestamp": 1726765442763,
     "user": {
      "displayName": "nimoy",
      "userId": "12145814232676261569"
     },
     "user_tz": -330
    },
    "id": "P008zXP6LpNo",
    "outputId": "503c1e9d-84cb-4b23-c89c-ecd6bc70e199"
   },
   "outputs": [
    {
     "name": "stdout",
     "output_type": "stream",
     "text": [
      "Predicted classes for new data: [0 2]\n"
     ]
    }
   ],
   "source": [
    "with torch.no_grad():\n",
    "    predictions = model(new_data)\n",
    "    _, predicted_classes = torch.max(predictions, 1)\n",
    "    print(\"Predicted classes for new data:\", predicted_classes.cpu().numpy())"
   ]
  },
  {
   "cell_type": "code",
   "execution_count": null,
   "metadata": {
    "id": "zq1XxuS4Nx9i"
   },
   "outputs": [],
   "source": []
  }
 ],
 "metadata": {
  "colab": {
   "authorship_tag": "ABX9TyOttHEJV6wiGEdsHm7TQywy",
   "provenance": []
  },
  "kernelspec": {
   "display_name": "Python 3",
   "name": "python3"
  },
  "language_info": {
   "name": "python",
   "version": "3.11.0"
  }
 },
 "nbformat": 4,
 "nbformat_minor": 0
}
