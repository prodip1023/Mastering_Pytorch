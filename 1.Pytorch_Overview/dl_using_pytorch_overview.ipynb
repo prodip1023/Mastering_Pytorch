{
 "cells": [
  {
   "cell_type": "markdown",
   "metadata": {},
   "source": [
    "# DEEP LEARNING OVERVIEW"
   ]
  },
  {
   "cell_type": "markdown",
   "metadata": {},
   "source": [
    "* Deep Learning uses large amounts of data to learn non-trivial(a connection between two or more things) relationships between inputs and outputs in the form of complex non-linear functions.\n",
    "* Deep neural networks involve a lot of mathematical computations,linear algebric equations,non-linear functions and various optimization algorithms.\n",
    "* In order to build and train a deep neural network from scratch using a programming language such as Python,it would be require us to write all the necessary equation,funtions and optimization schedules.\n",
    "    - The code would have to be written such that large amount of data can be loaded efficiently,\n",
    "    - Training can be performed in a resonable amount of time.\n",
    "    - Library Uses - Tensorflow and Theano , PyTorch is one such Python-based deep learning library that can be used to build deep learning models.\n",
    "### Text Detection\n",
    "- INPUT: An image of a text  \n",
    "- OUTPUT: Text\n",
    "### Text to Speech\n",
    "- INPUT: Text\n",
    "- OUTPUT: A natural voice speaking text\n",
    "### Speech Recognintion\n",
    "- INPUT: A natural voice speaking text\n",
    "- OUTPUT: Tanscribed text"
   ]
  },
  {
   "cell_type": "markdown",
   "metadata": {},
   "source": [
    "![image](https://www.researchgate.net/profile/Syed_Saqib_Jamal/publication/351443166/figure/fig2/AS:1021624551743489@1620585682403/A-biological-neuron-in-comparison-to-an-artificial-neural-network-a-Brain-neuron-b.png)"
   ]
  },
  {
   "cell_type": "markdown",
   "metadata": {},
   "source": [
    "![image1](https://mksaad.files.wordpress.com/2020/01/wp-15788622717713641092914873505808.png?w=1400&h=858&crop=1)"
   ]
  },
  {
   "cell_type": "markdown",
   "metadata": {},
   "source": [
    "### 1. FULLY-CONNECTED OR LINEAR"
   ]
  },
  {
   "cell_type": "markdown",
   "metadata": {},
   "source": [
    "![image2](https://iq.opengenus.org/content/images/2019/03/fc.jpg)"
   ]
  },
  {
   "cell_type": "markdown",
   "metadata": {},
   "source": [
    "### 2. CONVOLUTIONAL"
   ]
  },
  {
   "cell_type": "markdown",
   "metadata": {},
   "source": [
    "![image3](https://media.springernature.com/full/springer-static/image/art%3A10.1007%2Fs10462-024-10721-6/MediaObjects/10462_2024_10721_Fig3_HTML.png?as=webp)"
   ]
  },
  {
   "cell_type": "markdown",
   "metadata": {},
   "source": [
    "![image4](https://ars.els-cdn.com/content/image/3-s2.0-B9780323917636000151-f03-04-9780323917636.jpg)\n",
    "\n",
    "- https://colab.research.google.com/drive/194-BI1A_F1SrQJM3h6uiiIthM6b9cA5U"
   ]
  },
  {
   "cell_type": "markdown",
   "metadata": {},
   "source": [
    "### 3. RECURRENT "
   ]
  },
  {
   "cell_type": "markdown",
   "metadata": {},
   "source": [
    "![image5](https://opendatascience.com/wp-content/uploads/2020/12/rnn1.png)"
   ]
  },
  {
   "cell_type": "markdown",
   "metadata": {},
   "source": [
    "### 4.DECONV"
   ]
  },
  {
   "cell_type": "markdown",
   "metadata": {},
   "source": [
    "![image6](https://www.researchgate.net/publication/353042488/figure/fig1/AS:1042934715666435@1625666421921/Deconvolutional-Network-Some-applications-of-deconvolution-neural-network-are-1.png)"
   ]
  },
  {
   "cell_type": "markdown",
   "metadata": {},
   "source": [
    "## ACTIVATION FUNCTIONS\n",
    "- add the non-linearity"
   ]
  },
  {
   "cell_type": "markdown",
   "metadata": {},
   "source": [
    "1. Sigmoid (Or Logistic) function\n",
    "2. TanH\n",
    "3. Rectified linear Units (ReLU)\n",
    "4. Leaky ReLU\n",
    "5. Softmax\n",
    "\n",
    "Ref: https://www.v7labs.com/blog/neural-networks-activation-functions "
   ]
  },
  {
   "cell_type": "markdown",
   "metadata": {},
   "source": [
    "## OPTIMIZATION"
   ]
  },
  {
   "cell_type": "markdown",
   "metadata": {},
   "source": [
    "1. Stochastic Gradient Descent (SGD)\n",
    "2. Adagrad\n",
    "3. AdaDelta\n",
    "4. RMSprop\n",
    "5. Adaptive Moment Estimation (Adam)\n",
    "\n",
    "Ref: https://www.analyticsvidhya.com/blog/2021/10/a-comprehensive-guide-on-deep-learning-optimizers/"
   ]
  },
  {
   "cell_type": "markdown",
   "metadata": {},
   "source": [
    "### LOSS FUNCTION\n",
    "- https://www.analyticsvidhya.com/blog/2022/06/understanding-loss-function-in-deep-learning/\n",
    "- https://paperswithcode.com/methods/category/loss-functions"
   ]
  },
  {
   "cell_type": "markdown",
   "metadata": {},
   "source": []
  }
 ],
 "metadata": {
  "kernelspec": {
   "display_name": "pytorch",
   "language": "python",
   "name": "python3"
  },
  "language_info": {
   "name": "python",
   "version": "3.11.0"
  }
 },
 "nbformat": 4,
 "nbformat_minor": 2
}
